{
 "cells": [
  {
   "cell_type": "markdown",
   "id": "516f9f8f-b499-4bb3-bcb1-c110f2f2bab8",
   "metadata": {},
   "source": [
    "### Import libraries"
   ]
  },
  {
   "cell_type": "code",
   "execution_count": 4,
   "id": "bf01972b-d548-4072-9daf-25c7d158cd71",
   "metadata": {},
   "outputs": [],
   "source": [
    "import polars as pl\n",
    "import pandas as pd\n",
    "import matplotlib.pyplot as plt\n",
    "import os\n",
    "import pathlib\n",
    "from collections import OrderedDict"
   ]
  },
  {
   "cell_type": "code",
   "execution_count": 5,
   "id": "604d548d-a899-450c-8917-d30a23c6384f",
   "metadata": {},
   "outputs": [
    {
     "data": {
      "text/html": [
       "<div><style>\n",
       ".dataframe > thead > tr,\n",
       ".dataframe > tbody > tr {\n",
       "  text-align: right;\n",
       "  white-space: pre-wrap;\n",
       "}\n",
       "</style>\n",
       "<small>shape: (5, 6)</small><table border=\"1\" class=\"dataframe\"><thead><tr><th>title</th><th>text</th><th>url</th><th>authors</th><th>timestamp</th><th>tags</th></tr><tr><td>str</td><td>str</td><td>str</td><td>str</td><td>str</td><td>str</td></tr></thead><tbody><tr><td>&quot;Mental Note Vo…</td><td>&quot;Photo by Josh …</td><td>&quot;https://medium…</td><td>&quot;[&#x27;Ryan Fan&#x27;]&quot;</td><td>&quot;2020-12-26 03:…</td><td>&quot;[&#x27;Mental Healt…</td></tr><tr><td>&quot;Your Brain On …</td><td>&quot;Your Brain On …</td><td>&quot;https://medium…</td><td>&quot;[&#x27;Simon Spicha…</td><td>&quot;2020-09-23 22:…</td><td>&quot;[&#x27;Mental Healt…</td></tr><tr><td>&quot;Mind Your Nose…</td><td>&quot;Mind Your Nose…</td><td>&quot;https://medium…</td><td>&quot;[]&quot;</td><td>&quot;2020-10-10 20:…</td><td>&quot;[&#x27;Biotechnolog…</td></tr><tr><td>&quot;The 4 Purposes…</td><td>&quot;Passionate abo…</td><td>&quot;https://medium…</td><td>&quot;[&#x27;Eshan Samara…</td><td>&quot;2020-12-21 16:…</td><td>&quot;[&#x27;Health&#x27;, &#x27;Ne…</td></tr><tr><td>&quot;Surviving a Ro…</td><td>&quot;You’ve heard o…</td><td>&quot;https://medium…</td><td>&quot;[&#x27;Rishav Sinha…</td><td>&quot;2020-02-26 00:…</td><td>&quot;[&#x27;Brain&#x27;, &#x27;Hea…</td></tr></tbody></table></div>"
      ],
      "text/plain": [
       "shape: (5, 6)\n",
       "┌───────────────────┬───────────────────┬───────────────────┬───────────────────┬───────────────────┬──────────────────┐\n",
       "│ title             ┆ text              ┆ url               ┆ authors           ┆ timestamp         ┆ tags             │\n",
       "│ ---               ┆ ---               ┆ ---               ┆ ---               ┆ ---               ┆ ---              │\n",
       "│ str               ┆ str               ┆ str               ┆ str               ┆ str               ┆ str              │\n",
       "╞═══════════════════╪═══════════════════╪═══════════════════╪═══════════════════╪═══════════════════╪══════════════════╡\n",
       "│ Mental Note Vol.  ┆ Photo by Josh     ┆ https://medium.co ┆ ['Ryan Fan']      ┆ 2020-12-26 03:38: ┆ ['Mental         │\n",
       "│ 24                ┆ Riemer on         ┆ m/invisible-ill…  ┆                   ┆ 10.479000+00:00   ┆ Health',         │\n",
       "│                   ┆ Unsplash…         ┆                   ┆                   ┆                   ┆ 'Health', 'Psy…  │\n",
       "│ Your Brain On     ┆ Your Brain On     ┆ https://medium.co ┆ ['Simon Spichak'] ┆ 2020-09-23 22:10: ┆ ['Mental         │\n",
       "│ Coronavirus       ┆ Coronavirus       ┆ m/age-of-awaren…  ┆                   ┆ 17.126000+00:00   ┆ Health',         │\n",
       "│                   ┆                   ┆                   ┆                   ┆                   ┆ 'Coronavirus',…  │\n",
       "│                   ┆ A gui…            ┆                   ┆                   ┆                   ┆                  │\n",
       "│ Mind Your Nose    ┆ Mind Your Nose    ┆ https://medium.co ┆ []                ┆ 2020-10-10 20:17: ┆ ['Biotechnology' │\n",
       "│                   ┆                   ┆ m/neodotlife/mi…  ┆                   ┆ 37.132000+00:00   ┆ ,                │\n",
       "│                   ┆ How smell traini… ┆                   ┆                   ┆                   ┆ 'Neuroscience'…  │\n",
       "│ The 4 Purposes of ┆ Passionate about  ┆ https://medium.co ┆ ['Eshan           ┆ 2020-12-21 16:05: ┆ ['Health',       │\n",
       "│ Dreams            ┆ the synergy bet…  ┆ m/science-for-r…  ┆ Samaranayake']    ┆ 19.524000+00:00   ┆ 'Neuroscience',  │\n",
       "│                   ┆                   ┆                   ┆                   ┆                   ┆ 'Ment…           │\n",
       "│ Surviving a Rod   ┆ You’ve heard of   ┆ https://medium.co ┆ ['Rishav Sinha']  ┆ 2020-02-26 00:01: ┆ ['Brain',        │\n",
       "│ Through the Head  ┆ him, haven’t you… ┆ m/live-your-lif…  ┆                   ┆ 01.576000+00:00   ┆ 'Health',        │\n",
       "│                   ┆                   ┆                   ┆                   ┆                   ┆ 'Development…    │\n",
       "└───────────────────┴───────────────────┴───────────────────┴───────────────────┴───────────────────┴──────────────────┘"
      ]
     },
     "execution_count": 5,
     "metadata": {},
     "output_type": "execute_result"
    }
   ],
   "source": [
    "path_to_current_folder = pathlib.Path(os.getcwd())\n",
    "path_to_dataset_folder = path_to_current_folder.parent / \"dataset\"\n",
    "path_to_dataset_file = path_to_dataset_folder / \"medium_articles.csv\"\n",
    "df = pl.scan_csv(path_to_dataset_file)\n",
    "df.limit(5).select(\"*\").collect()"
   ]
  },
  {
   "cell_type": "code",
   "execution_count": 16,
   "id": "6b712016-4ed7-47ba-8054-fecbef3678bd",
   "metadata": {},
   "outputs": [
    {
     "name": "stdout",
     "output_type": "stream",
     "text": [
      "acq\n",
      "alum\n",
      "barley\n",
      "bop\n",
      "carcass\n"
     ]
    }
   ],
   "source": [
    "mlb = pd.read_pickle(path_to_dataset_folder / \"multilabelbinarizer.pickle\")\n",
    "for index, label in enumerate(mlb.classes_):\n",
    "    print(label)\n",
    "    if index > 3:\n",
    "        break"
   ]
  },
  {
   "cell_type": "code",
   "execution_count": 18,
   "id": "34b9d50d-15fd-4e2f-a857-a436f9adf1d4",
   "metadata": {},
   "outputs": [
    {
     "data": {
      "text/plain": [
       "array(['acq', 'alum', 'barley', 'bop', 'carcass', 'castor-oil', 'cocoa',\n",
       "       'coconut', 'coconut-oil', 'coffee', 'copper', 'copra-cake', 'corn',\n",
       "       'cotton', 'cotton-oil', 'cpi', 'cpu', 'crude', 'dfl', 'dlr', 'dmk',\n",
       "       'earn', 'fuel', 'gas', 'gnp', 'gold', 'grain', 'groundnut',\n",
       "       'groundnut-oil', 'heat', 'hog', 'housing', 'income', 'instal-debt',\n",
       "       'interest', 'ipi', 'iron-steel', 'jet', 'jobs', 'l-cattle', 'lead',\n",
       "       'lei', 'lin-oil', 'livestock', 'lumber', 'meal-feed', 'money-fx',\n",
       "       'money-supply', 'naphtha', 'nat-gas', 'nickel', 'nkr', 'nzdlr',\n",
       "       'oat', 'oilseed', 'orange', 'palladium', 'palm-oil', 'palmkernel',\n",
       "       'pet-chem', 'platinum', 'potato', 'propane', 'rand', 'rape-oil',\n",
       "       'rapeseed', 'reserves', 'retail', 'rice', 'rubber', 'rye', 'ship',\n",
       "       'silver', 'sorghum', 'soy-meal', 'soy-oil', 'soybean',\n",
       "       'strategic-metal', 'sugar', 'sun-meal', 'sun-oil', 'sunseed',\n",
       "       'tea', 'tin', 'trade', 'veg-oil', 'wheat', 'wpi', 'yen', 'zinc'],\n",
       "      dtype=object)"
      ]
     },
     "execution_count": 18,
     "metadata": {},
     "output_type": "execute_result"
    }
   ],
   "source": [
    "mlb.classes_"
   ]
  },
  {
   "cell_type": "code",
   "execution_count": 68,
   "id": "eee1ce52-7d56-471d-9bbb-b9936bbfe001",
   "metadata": {},
   "outputs": [
    {
     "data": {
      "text/plain": [
       "OrderedDict([('title', String),\n",
       "             ('text', String),\n",
       "             ('url', String),\n",
       "             ('authors', String),\n",
       "             ('timestamp', String),\n",
       "             ('tags', String)])"
      ]
     },
     "execution_count": 68,
     "metadata": {},
     "output_type": "execute_result"
    }
   ],
   "source": [
    "schema = df.schema\n",
    "schema"
   ]
  },
  {
   "cell_type": "markdown",
   "id": "50d9fc86-3905-4b5c-aef9-c23e293bfbe1",
   "metadata": {},
   "source": [
    "### Аrticles with null dates"
   ]
  },
  {
   "cell_type": "code",
   "execution_count": 70,
   "id": "fa3c4875-1c40-42ef-8af2-8afa16e88d0b",
   "metadata": {},
   "outputs": [
    {
     "data": {
      "text/html": [
       "<div><style>\n",
       ".dataframe > thead > tr,\n",
       ".dataframe > tbody > tr {\n",
       "  text-align: right;\n",
       "  white-space: pre-wrap;\n",
       "}\n",
       "</style>\n",
       "<small>shape: (1, 1)</small><table border=\"1\" class=\"dataframe\"><thead><tr><th>len</th></tr><tr><td>u32</td></tr></thead><tbody><tr><td>192366</td></tr></tbody></table></div>"
      ],
      "text/plain": [
       "shape: (1, 1)\n",
       "┌────────┐\n",
       "│ len    │\n",
       "│ ---    │\n",
       "│ u32    │\n",
       "╞════════╡\n",
       "│ 192366 │\n",
       "└────────┘"
      ]
     },
     "execution_count": 70,
     "metadata": {},
     "output_type": "execute_result"
    }
   ],
   "source": [
    "df.filter(pl.col(\"timestamp\").is_not_null()).select(pl.len()).collect()"
   ]
  },
  {
   "cell_type": "code",
   "execution_count": 71,
   "id": "769e9c82-518d-4225-83a8-689003f3c3dd",
   "metadata": {},
   "outputs": [
    {
     "data": {
      "text/html": [
       "<div><style>\n",
       ".dataframe > thead > tr,\n",
       ".dataframe > tbody > tr {\n",
       "  text-align: right;\n",
       "  white-space: pre-wrap;\n",
       "}\n",
       "</style>\n",
       "<small>shape: (1, 1)</small><table border=\"1\" class=\"dataframe\"><thead><tr><th>len</th></tr><tr><td>u32</td></tr></thead><tbody><tr><td>2</td></tr></tbody></table></div>"
      ],
      "text/plain": [
       "shape: (1, 1)\n",
       "┌─────┐\n",
       "│ len │\n",
       "│ --- │\n",
       "│ u32 │\n",
       "╞═════╡\n",
       "│ 2   │\n",
       "└─────┘"
      ]
     },
     "execution_count": 71,
     "metadata": {},
     "output_type": "execute_result"
    }
   ],
   "source": [
    "df.filter(pl.col(\"timestamp\").is_null()).select(pl.len()).collect()"
   ]
  },
  {
   "cell_type": "code",
   "execution_count": 72,
   "id": "ee3e8364-08cf-471d-a388-94bc782628b0",
   "metadata": {},
   "outputs": [],
   "source": [
    "df = df.filter(pl.col(\"timestamp\").is_not_null())"
   ]
  },
  {
   "cell_type": "markdown",
   "id": "e08382a6-1fd5-40c5-b960-c0c9d754feb0",
   "metadata": {},
   "source": [
    "### Distribution of articles by year"
   ]
  },
  {
   "cell_type": "code",
   "execution_count": 74,
   "id": "1d978bb8-3398-4fac-8e15-d257fed69568",
   "metadata": {},
   "outputs": [
    {
     "data": {
      "text/html": [
       "<div><style>\n",
       ".dataframe > thead > tr,\n",
       ".dataframe > tbody > tr {\n",
       "  text-align: right;\n",
       "  white-space: pre-wrap;\n",
       "}\n",
       "</style>\n",
       "<small>shape: (5, 8)</small><table border=\"1\" class=\"dataframe\"><thead><tr><th>title</th><th>text</th><th>url</th><th>authors</th><th>timestamp</th><th>tags</th><th>year</th><th>month</th></tr><tr><td>str</td><td>str</td><td>str</td><td>str</td><td>datetime[μs]</td><td>str</td><td>i32</td><td>i8</td></tr></thead><tbody><tr><td>&quot;Mental Note Vo…</td><td>&quot;Photo by Josh …</td><td>&quot;https://medium…</td><td>&quot;[&#x27;Ryan Fan&#x27;]&quot;</td><td>2020-12-26 00:00:00</td><td>&quot;[&#x27;Mental Healt…</td><td>2020</td><td>12</td></tr><tr><td>&quot;Your Brain On …</td><td>&quot;Your Brain On …</td><td>&quot;https://medium…</td><td>&quot;[&#x27;Simon Spicha…</td><td>2020-09-23 00:00:00</td><td>&quot;[&#x27;Mental Healt…</td><td>2020</td><td>9</td></tr><tr><td>&quot;Mind Your Nose…</td><td>&quot;Mind Your Nose…</td><td>&quot;https://medium…</td><td>&quot;[]&quot;</td><td>2020-10-10 00:00:00</td><td>&quot;[&#x27;Biotechnolog…</td><td>2020</td><td>10</td></tr><tr><td>&quot;The 4 Purposes…</td><td>&quot;Passionate abo…</td><td>&quot;https://medium…</td><td>&quot;[&#x27;Eshan Samara…</td><td>2020-12-21 00:00:00</td><td>&quot;[&#x27;Health&#x27;, &#x27;Ne…</td><td>2020</td><td>12</td></tr><tr><td>&quot;Surviving a Ro…</td><td>&quot;You’ve heard o…</td><td>&quot;https://medium…</td><td>&quot;[&#x27;Rishav Sinha…</td><td>2020-02-26 00:00:00</td><td>&quot;[&#x27;Brain&#x27;, &#x27;Hea…</td><td>2020</td><td>2</td></tr></tbody></table></div>"
      ],
      "text/plain": [
       "shape: (5, 8)\n",
       "┌─────────────────┬─────────────────┬────────────────┬────────────────┬────────────────┬────────────────┬──────┬───────┐\n",
       "│ title           ┆ text            ┆ url            ┆ authors        ┆ timestamp      ┆ tags           ┆ year ┆ month │\n",
       "│ ---             ┆ ---             ┆ ---            ┆ ---            ┆ ---            ┆ ---            ┆ ---  ┆ ---   │\n",
       "│ str             ┆ str             ┆ str            ┆ str            ┆ datetime[μs]   ┆ str            ┆ i32  ┆ i8    │\n",
       "╞═════════════════╪═════════════════╪════════════════╪════════════════╪════════════════╪════════════════╪══════╪═══════╡\n",
       "│ Mental Note     ┆ Photo by Josh   ┆ https://medium ┆ ['Ryan Fan']   ┆ 2020-12-26     ┆ ['Mental       ┆ 2020 ┆ 12    │\n",
       "│ Vol. 24         ┆ Riemer on       ┆ .com/invisible ┆                ┆ 00:00:00       ┆ Health',       ┆      ┆       │\n",
       "│                 ┆ Unsplash…       ┆ -ill…          ┆                ┆                ┆ 'Health',      ┆      ┆       │\n",
       "│                 ┆                 ┆                ┆                ┆                ┆ 'Psy…          ┆      ┆       │\n",
       "│ Your Brain On   ┆ Your Brain On   ┆ https://medium ┆ ['Simon        ┆ 2020-09-23     ┆ ['Mental       ┆ 2020 ┆ 9     │\n",
       "│ Coronavirus     ┆ Coronavirus     ┆ .com/age-of-aw ┆ Spichak']      ┆ 00:00:00       ┆ Health', 'Coro ┆      ┆       │\n",
       "│                 ┆                 ┆ aren…          ┆                ┆                ┆ navirus',…     ┆      ┆       │\n",
       "│                 ┆ A gui…          ┆                ┆                ┆                ┆                ┆      ┆       │\n",
       "│ Mind Your Nose  ┆ Mind Your Nose  ┆ https://medium ┆ []             ┆ 2020-10-10     ┆ ['Biotechnolog ┆ 2020 ┆ 10    │\n",
       "│                 ┆                 ┆ .com/neodotlif ┆                ┆ 00:00:00       ┆ y', 'Neuroscie ┆      ┆       │\n",
       "│                 ┆ How smell       ┆ e/mi…          ┆                ┆                ┆ nce'…          ┆      ┆       │\n",
       "│                 ┆ traini…         ┆                ┆                ┆                ┆                ┆      ┆       │\n",
       "│ The 4 Purposes  ┆ Passionate      ┆ https://medium ┆ ['Eshan        ┆ 2020-12-21     ┆ ['Health', 'Ne ┆ 2020 ┆ 12    │\n",
       "│ of Dreams       ┆ about the       ┆ .com/science-f ┆ Samaranayake'] ┆ 00:00:00       ┆ uroscience',   ┆      ┆       │\n",
       "│                 ┆ synergy bet…    ┆ or-r…          ┆                ┆                ┆ 'Ment…         ┆      ┆       │\n",
       "│ Surviving a Rod ┆ You’ve heard of ┆ https://medium ┆ ['Rishav       ┆ 2020-02-26     ┆ ['Brain',      ┆ 2020 ┆ 2     │\n",
       "│ Through the     ┆ him, haven’t    ┆ .com/live-your ┆ Sinha']        ┆ 00:00:00       ┆ 'Health',      ┆      ┆       │\n",
       "│ Head            ┆ you…            ┆ -lif…          ┆                ┆                ┆ 'Development…  ┆      ┆       │\n",
       "└─────────────────┴─────────────────┴────────────────┴────────────────┴────────────────┴────────────────┴──────┴───────┘"
      ]
     },
     "execution_count": 74,
     "metadata": {},
     "output_type": "execute_result"
    }
   ],
   "source": [
    "df = (\n",
    "    df.with_columns(\n",
    "        pl.col(\"timestamp\").str.split(\" \").list.first().str.to_datetime().alias(\"timestamp\"),\n",
    "    ).with_columns(\n",
    "        pl.col(\"timestamp\").dt.year().alias(\"year\"),\n",
    "        pl.col(\"timestamp\").dt.month().alias(\"month\"),\n",
    "    )\n",
    ")\n",
    "df.select(\"*\").limit(5).collect()"
   ]
  },
  {
   "cell_type": "code",
   "execution_count": 75,
   "id": "e9d584ab-c742-486f-935d-0877273b39c6",
   "metadata": {},
   "outputs": [],
   "source": [
    "df_articles_count_by_year = (\n",
    "    df.group_by(\"year\")\n",
    "    .agg(\n",
    "        pl.len().alias(\"count_articles\"),\n",
    "    ).select(\"year\", \"count_articles\").collect()\n",
    ")"
   ]
  },
  {
   "cell_type": "code",
   "execution_count": 76,
   "id": "dc96e26e-4366-4d02-af7e-ffe599bf4b0a",
   "metadata": {},
   "outputs": [
    {
     "data": {
      "text/html": [
       "<div><style>\n",
       ".dataframe > thead > tr,\n",
       ".dataframe > tbody > tr {\n",
       "  text-align: right;\n",
       "  white-space: pre-wrap;\n",
       "}\n",
       "</style>\n",
       "<small>shape: (25, 2)</small><table border=\"1\" class=\"dataframe\"><thead><tr><th>year</th><th>count_articles</th></tr><tr><td>i32</td><td>u32</td></tr></thead><tbody><tr><td>1992</td><td>1</td></tr><tr><td>1917</td><td>1</td></tr><tr><td>1987</td><td>1</td></tr><tr><td>2015</td><td>636</td></tr><tr><td>2016</td><td>2689</td></tr><tr><td>2030</td><td>5</td></tr><tr><td>2003</td><td>1</td></tr><tr><td>2017</td><td>4649</td></tr><tr><td>1991</td><td>1</td></tr><tr><td>2009</td><td>2</td></tr><tr><td>2020</td><td>115846</td></tr><tr><td>1941</td><td>1</td></tr><tr><td>2018</td><td>9846</td></tr><tr><td>2012</td><td>1</td></tr><tr><td>2025</td><td>1</td></tr><tr><td>2021</td><td>32182</td></tr><tr><td>2019</td><td>26221</td></tr><tr><td>2013</td><td>1</td></tr><tr><td>2077</td><td>1</td></tr><tr><td>1985</td><td>1</td></tr><tr><td>2011</td><td>1</td></tr><tr><td>2034</td><td>1</td></tr><tr><td>1969</td><td>1</td></tr><tr><td>2022</td><td>275</td></tr><tr><td>2014</td><td>1</td></tr></tbody></table></div>"
      ],
      "text/plain": [
       "shape: (25, 2)\n",
       "┌──────┬────────────────┐\n",
       "│ year ┆ count_articles │\n",
       "│ ---  ┆ ---            │\n",
       "│ i32  ┆ u32            │\n",
       "╞══════╪════════════════╡\n",
       "│ 1992 ┆ 1              │\n",
       "│ 1917 ┆ 1              │\n",
       "│ 1987 ┆ 1              │\n",
       "│ 2015 ┆ 636            │\n",
       "│ 2016 ┆ 2689           │\n",
       "│ …    ┆ …              │\n",
       "│ 2011 ┆ 1              │\n",
       "│ 2034 ┆ 1              │\n",
       "│ 1969 ┆ 1              │\n",
       "│ 2022 ┆ 275            │\n",
       "│ 2014 ┆ 1              │\n",
       "└──────┴────────────────┘"
      ]
     },
     "execution_count": 76,
     "metadata": {},
     "output_type": "execute_result"
    }
   ],
   "source": [
    "df_articles_count_by_year"
   ]
  },
  {
   "cell_type": "markdown",
   "id": "8b9acb37-0efc-41a8-97f2-c7db10b254f8",
   "metadata": {},
   "source": [
    "Drop articles from dataset with year less than 2012 (Medium website created day). "
   ]
  },
  {
   "cell_type": "code",
   "execution_count": 78,
   "id": "db06b00c-12cb-4e67-8ed4-d4e6b50e6e0d",
   "metadata": {},
   "outputs": [
    {
     "data": {
      "text/html": [
       "<div><style>\n",
       ".dataframe > thead > tr,\n",
       ".dataframe > tbody > tr {\n",
       "  text-align: right;\n",
       "  white-space: pre-wrap;\n",
       "}\n",
       "</style>\n",
       "<small>shape: (5, 2)</small><table border=\"1\" class=\"dataframe\"><thead><tr><th>year</th><th>count_articles</th></tr><tr><td>i32</td><td>u32</td></tr></thead><tbody><tr><td>2012</td><td>1</td></tr><tr><td>2013</td><td>1</td></tr><tr><td>2014</td><td>1</td></tr><tr><td>2015</td><td>636</td></tr><tr><td>2016</td><td>2689</td></tr></tbody></table></div>"
      ],
      "text/plain": [
       "shape: (5, 2)\n",
       "┌──────┬────────────────┐\n",
       "│ year ┆ count_articles │\n",
       "│ ---  ┆ ---            │\n",
       "│ i32  ┆ u32            │\n",
       "╞══════╪════════════════╡\n",
       "│ 2012 ┆ 1              │\n",
       "│ 2013 ┆ 1              │\n",
       "│ 2014 ┆ 1              │\n",
       "│ 2015 ┆ 636            │\n",
       "│ 2016 ┆ 2689           │\n",
       "└──────┴────────────────┘"
      ]
     },
     "execution_count": 78,
     "metadata": {},
     "output_type": "execute_result"
    }
   ],
   "source": [
    "df = df.filter((pl.col(\"year\") >= 2012) & (pl.col(\"year\") <= 2022))\n",
    "df_articles_count_by_year = (\n",
    "    df.group_by(\"year\")\n",
    "    .agg(\n",
    "        pl.len().alias(\"count_articles\"),\n",
    "    ).select(\"year\", \"count_articles\").collect()\n",
    ")\n",
    "df_articles_count_by_year.sort(\"year\").limit(5).select(\"*\")"
   ]
  },
  {
   "cell_type": "code",
   "execution_count": 79,
   "id": "115320d4-36cd-47c3-a9cd-d6f73691abd9",
   "metadata": {},
   "outputs": [
    {
     "data": {
      "image/png": "[encoded data removed]",
      "text/plain": [
       "<Figure size 640x480 with 1 Axes>"
      ]
     },
     "metadata": {},
     "output_type": "display_data"
    }
   ],
   "source": [
    "plt.bar(df_articles_count_by_year[\"year\"], df_articles_count_by_year[\"count_articles\"])\n",
    "plt.title(\"Distribution of articles by year\")\n",
    "plt.xlabel(\"Year\")\n",
    "plt.ylabel(\"Count articles\")\n",
    "plt.show()"
   ]
  },
  {
   "cell_type": "markdown",
   "id": "d19e5596-e6e1-4484-81f2-bd83f75b84b0",
   "metadata": {},
   "source": [
    "### Most popular articles by tags"
   ]
  },
  {
   "cell_type": "code",
   "execution_count": 81,
   "id": "3e57c51f-e212-4432-8a5b-8107a69501b3",
   "metadata": {},
   "outputs": [
    {
     "data": {
      "text/html": [
       "<div><style>\n",
       ".dataframe > thead > tr,\n",
       ".dataframe > tbody > tr {\n",
       "  text-align: right;\n",
       "  white-space: pre-wrap;\n",
       "}\n",
       "</style>\n",
       "<small>shape: (10, 2)</small><table border=\"1\" class=\"dataframe\"><thead><tr><th>tags</th><th>count_tags</th></tr><tr><td>str</td><td>u32</td></tr></thead><tbody><tr><td>&quot;Blockchain&quot;</td><td>7533</td></tr><tr><td>&quot;Data Science&quot;</td><td>7410</td></tr><tr><td>&quot;Technology&quot;</td><td>6384</td></tr><tr><td>&quot;Programming&quot;</td><td>6364</td></tr><tr><td>&quot;Poetry&quot;</td><td>6336</td></tr><tr><td>&quot;Cryptocurrency…</td><td>6244</td></tr><tr><td>&quot;Machine Learni…</td><td>6055</td></tr><tr><td>&quot;Life&quot;</td><td>5954</td></tr><tr><td>&quot;Bitcoin&quot;</td><td>5800</td></tr><tr><td>&quot;Writing&quot;</td><td>5114</td></tr></tbody></table></div>"
      ],
      "text/plain": [
       "shape: (10, 2)\n",
       "┌──────────────────┬────────────┐\n",
       "│ tags             ┆ count_tags │\n",
       "│ ---              ┆ ---        │\n",
       "│ str              ┆ u32        │\n",
       "╞══════════════════╪════════════╡\n",
       "│ Blockchain       ┆ 7533       │\n",
       "│ Data Science     ┆ 7410       │\n",
       "│ Technology       ┆ 6384       │\n",
       "│ Programming      ┆ 6364       │\n",
       "│ Poetry           ┆ 6336       │\n",
       "│ Cryptocurrency   ┆ 6244       │\n",
       "│ Machine Learning ┆ 6055       │\n",
       "│ Life             ┆ 5954       │\n",
       "│ Bitcoin          ┆ 5800       │\n",
       "│ Writing          ┆ 5114       │\n",
       "└──────────────────┴────────────┘"
      ]
     },
     "execution_count": 81,
     "metadata": {},
     "output_type": "execute_result"
    }
   ],
   "source": [
    "df = (\n",
    "    df.with_columns(\n",
    "        pl.col(\"tags\").str.slice(1).alias(\"tags\"),\n",
    "    ).with_columns(\n",
    "        pl.col(\"tags\").str.len_chars().alias(\"len_tags\"), \n",
    "    ).with_columns(\n",
    "        pl.col(\"tags\").str.slice(0, pl.col(\"len_tags\") - 1).alias(\"tags\"), \n",
    "    ).with_columns(\n",
    "        pl.col(\"tags\").str.replace_all(\"'\", \"\").alias(\"tags\"),  \n",
    "    ).with_columns(\n",
    "        pl.col(\"tags\").str.split(\", \").alias(\"tags\"),\n",
    "    )\n",
    ")\n",
    "\n",
    "df_exploded = df.explode(\"tags\")\n",
    "\n",
    "df_articles_tags = (\n",
    "    df_exploded.group_by(\"tags\")\n",
    "    .agg(\n",
    "        pl.len().alias(\"count_tags\"),\n",
    "    ).collect()\n",
    ")\n",
    "\n",
    "df_articles_tags.sort(\"count_tags\", descending=True).head(10)"
   ]
  },
  {
   "cell_type": "markdown",
   "id": "569841b3-d727-45b0-8a4a-eb4111699de6",
   "metadata": {},
   "source": [
    "**Conclusion:** Most popular themes on medium are computer sciences"
   ]
  },
  {
   "cell_type": "markdown",
   "id": "91bd77ee-ffc0-4d96-afce-5a80d60badca",
   "metadata": {},
   "source": [
    "### Average number of tags per article\n"
   ]
  },
  {
   "cell_type": "code",
   "execution_count": 84,
   "id": "5aff3d4f-3985-4306-b567-ae988cc16955",
   "metadata": {},
   "outputs": [
    {
     "data": {
      "text/html": [
       "<div><style>\n",
       ".dataframe > thead > tr,\n",
       ".dataframe > tbody > tr {\n",
       "  text-align: right;\n",
       "  white-space: pre-wrap;\n",
       "}\n",
       "</style>\n",
       "<small>shape: (1, 1)</small><table border=\"1\" class=\"dataframe\"><thead><tr><th>tags_count</th></tr><tr><td>f64</td></tr></thead><tbody><tr><td>4.577685</td></tr></tbody></table></div>"
      ],
      "text/plain": [
       "shape: (1, 1)\n",
       "┌────────────┐\n",
       "│ tags_count │\n",
       "│ ---        │\n",
       "│ f64        │\n",
       "╞════════════╡\n",
       "│ 4.577685   │\n",
       "└────────────┘"
      ]
     },
     "execution_count": 84,
     "metadata": {},
     "output_type": "execute_result"
    }
   ],
   "source": [
    "df_articles_tags_count = (\n",
    "    df.with_columns(\n",
    "        pl.col(\"tags\").list.len().alias(\"tags_count\"),\n",
    "    )\n",
    ")\n",
    "\n",
    "df_articles_tags_count.select(pl.mean(\"tags_count\")).collect()"
   ]
  },
  {
   "cell_type": "code",
   "execution_count": 85,
   "id": "0b11530e-626c-4db3-ac65-ab00829a43ba",
   "metadata": {},
   "outputs": [
    {
     "data": {
      "text/plain": [
       "OrderedDict([('title', String),\n",
       "             ('text', String),\n",
       "             ('url', String),\n",
       "             ('authors', String),\n",
       "             ('timestamp', Datetime(time_unit='us', time_zone=None)),\n",
       "             ('tags', List(String)),\n",
       "             ('year', Int32),\n",
       "             ('month', Int8),\n",
       "             ('len_tags', UInt32)])"
      ]
     },
     "execution_count": 85,
     "metadata": {},
     "output_type": "execute_result"
    }
   ],
   "source": [
    "df.schema"
   ]
  },
  {
   "cell_type": "markdown",
   "id": "583a5037-2874-4e7d-a8cd-16e63dfe42fb",
   "metadata": {},
   "source": [
    "### Len text distribution"
   ]
  },
  {
   "cell_type": "code",
   "execution_count": 97,
   "id": "59cae4ea-9219-47a2-9ec5-1ee84dd3a5d6",
   "metadata": {},
   "outputs": [
    {
     "data": {
      "image/png": "[encoded data removed]",
      "text/plain": [
       "<Figure size 640x480 with 1 Axes>"
      ]
     },
     "metadata": {},
     "output_type": "display_data"
    }
   ],
   "source": [
    "df = (\n",
    "    df.with_columns(\n",
    "        pl.col(\"text\").str.len_chars().alias(\"text_len\")\n",
    "    )\n",
    ")\n",
    "\n",
    "plt.hist(df.select(\"text_len\").collect(), bins=100)\n",
    "plt.show()"
   ]
  },
  {
   "cell_type": "code",
   "execution_count": 101,
   "id": "b7b02947-5fe4-4210-a4e9-eb111362eb42",
   "metadata": {},
   "outputs": [
    {
     "data": {
      "text/html": [
       "<div><style>\n",
       ".dataframe > thead > tr,\n",
       ".dataframe > tbody > tr {\n",
       "  text-align: right;\n",
       "  white-space: pre-wrap;\n",
       "}\n",
       "</style>\n",
       "<small>shape: (1, 1)</small><table border=\"1\" class=\"dataframe\"><thead><tr><th>text_len</th></tr><tr><td>f64</td></tr></thead><tbody><tr><td>5097.762232</td></tr></tbody></table></div>"
      ],
      "text/plain": [
       "shape: (1, 1)\n",
       "┌─────────────┐\n",
       "│ text_len    │\n",
       "│ ---         │\n",
       "│ f64         │\n",
       "╞═════════════╡\n",
       "│ 5097.762232 │\n",
       "└─────────────┘"
      ]
     },
     "execution_count": 101,
     "metadata": {},
     "output_type": "execute_result"
    }
   ],
   "source": [
    "df.select(pl.mean(\"text_len\")).collect()"
   ]
  },
  {
   "cell_type": "markdown",
   "id": "edc0f9a4-9a51-4b93-b2ed-031a7af907e8",
   "metadata": {},
   "source": [
    "### Save dataset after preprocessing"
   ]
  },
  {
   "cell_type": "code",
   "execution_count": 109,
   "id": "14bf478c-3eff-45eb-9bba-e73b820b8ecf",
   "metadata": {},
   "outputs": [],
   "source": [
    "path_to_dataset_after_preprossing = path_to_dataset_folder / \"medium_articles.parquet\"\n",
    "df.select(\"text\", \"tags\").collect().write_parquet(path_to_dataset_after_preprossing)"
   ]
  },
  {
   "cell_type": "code",
   "execution_count": 125,
   "id": "38dcafb0-8f2c-47e2-84a8-f609c0e10310",
   "metadata": {},
   "outputs": [
    {
     "data": {
      "text/plain": [
       "array([0., 0., 0., 0., 1., 1., 1., 1., 1., 0.], dtype=float32)"
      ]
     },
     "execution_count": 125,
     "metadata": {},
     "output_type": "execute_result"
    }
   ],
   "source": [
    "from sklearn.preprocessing import MultiLabelBinarizer\n",
    "multilabel = MultiLabelBinarizer()\n",
    "\n",
    "labels = multilabel.fit_transform(df.select(\"tags\").limit(5).collect()[\"tags\"]).astype('float32')\n",
    "labels[0]"
   ]
  },
  {
   "cell_type": "code",
   "execution_count": 131,
   "id": "0b5d27dd-1022-488f-b0ed-36e62f07501b",
   "metadata": {},
   "outputs": [
    {
     "data": {
      "text/plain": [
       "(array([0., 0., 1., 0., 0., 1., 1., 1., 1., 0.], dtype=float32),\n",
       " array([1., 1., 0., 0., 0., 0., 1., 0., 1., 1.], dtype=float32),\n",
       " array([0., 0., 0., 0., 1., 1., 1., 1., 1., 0.], dtype=float32),\n",
       " array([0., 1., 0., 1., 1., 0., 0., 1., 1., 0.], dtype=float32))"
      ]
     },
     "execution_count": 131,
     "metadata": {},
     "output_type": "execute_result"
    }
   ],
   "source": [
    "labels[1], labels[2], labels[3], labels[4]"
   ]
  },
  {
   "cell_type": "code",
   "execution_count": 123,
   "id": "aa8ccdf7-3850-4e48-9d77-27ad3e567d25",
   "metadata": {},
   "outputs": [
    {
     "data": {
      "text/html": [
       "<div><style>\n",
       ".dataframe > thead > tr,\n",
       ".dataframe > tbody > tr {\n",
       "  text-align: right;\n",
       "  white-space: pre-wrap;\n",
       "}\n",
       "</style>\n",
       "<small>shape: (1, 1)</small><table border=\"1\" class=\"dataframe\"><thead><tr><th>len</th></tr><tr><td>u32</td></tr></thead><tbody><tr><td>192347</td></tr></tbody></table></div>"
      ],
      "text/plain": [
       "shape: (1, 1)\n",
       "┌────────┐\n",
       "│ len    │\n",
       "│ ---    │\n",
       "│ u32    │\n",
       "╞════════╡\n",
       "│ 192347 │\n",
       "└────────┘"
      ]
     },
     "execution_count": 123,
     "metadata": {},
     "output_type": "execute_result"
    }
   ],
   "source": [
    "df.select(pl.len()).collect()"
   ]
  },
  {
   "cell_type": "code",
   "execution_count": 141,
   "id": "848a70d4-90fb-4b5c-ad02-3d98012d77ac",
   "metadata": {},
   "outputs": [
    {
     "data": {
      "text/plain": [
       "10"
      ]
     },
     "execution_count": 141,
     "metadata": {},
     "output_type": "execute_result"
    }
   ],
   "source": [
    "set(list(df.select(\"tags\").limit(5).explode(\"tags\").collect()[\"tags\"])).__len__()"
   ]
  },
  {
   "cell_type": "code",
   "execution_count": null,
   "id": "fda9649d-a292-43dc-95e5-24370bea008f",
   "metadata": {},
   "outputs": [],
   "source": [
    "df.explode(\"tags\").select(\"tags\")"
   ]
  }
 ],
 "metadata": {
  "kernelspec": {
   "display_name": "Python 3 (ipykernel)",
   "language": "python",
   "name": "python3"
  },
  "language_info": {
   "codemirror_mode": {
    "name": "ipython",
    "version": 3
   },
   "file_extension": ".py",
   "mimetype": "text/x-python",
   "name": "python",
   "nbconvert_exporter": "python",
   "pygments_lexer": "ipython3",
   "version": "3.12.4"
  }
 },
 "nbformat": 4,
 "nbformat_minor": 5
}
