{
 "cells": [
  {
   "cell_type": "code",
   "execution_count": 18,
   "id": "f9ac4057-bfda-492f-b2e9-f077656d8359",
   "metadata": {},
   "outputs": [
    {
     "name": "stdout",
     "output_type": "stream",
     "text": [
      "Defaulting to user installation because normal site-packages is not writeable\n",
      "Looking in indexes: https://pypi.org/simple, https://pypi.ngc.nvidia.com\n",
      "Requirement already satisfied: fasttext in /home/student/.local/lib/python3.10/site-packages (0.9.3)\n",
      "Requirement already satisfied: pybind11>=2.2 in /home/student/.local/lib/python3.10/site-packages (from fasttext) (2.13.6)\n",
      "Requirement already satisfied: setuptools>=0.7.0 in /usr/lib/python3/dist-packages (from fasttext) (59.6.0)\n",
      "Requirement already satisfied: numpy in /home/student/.local/lib/python3.10/site-packages (from fasttext) (2.2.6)\n",
      "Defaulting to user installation because normal site-packages is not writeable\n",
      "Looking in indexes: https://pypi.org/simple, https://pypi.ngc.nvidia.com\n",
      "Requirement already satisfied: catboost in /home/student/.local/lib/python3.10/site-packages (1.2.8)\n",
      "Requirement already satisfied: graphviz in /home/student/.local/lib/python3.10/site-packages (from catboost) (0.20.3)\n",
      "Requirement already satisfied: plotly in /home/student/.local/lib/python3.10/site-packages (from catboost) (6.1.2)\n",
      "Requirement already satisfied: six in /usr/lib/python3/dist-packages (from catboost) (1.16.0)\n",
      "Requirement already satisfied: numpy<3.0,>=1.16.0 in /home/student/.local/lib/python3.10/site-packages (from catboost) (2.2.6)\n",
      "Requirement already satisfied: scipy in /home/student/.local/lib/python3.10/site-packages (from catboost) (1.15.3)\n",
      "Requirement already satisfied: pandas>=0.24 in /home/student/.local/lib/python3.10/site-packages (from catboost) (2.2.3)\n",
      "Requirement already satisfied: matplotlib in /home/student/.local/lib/python3.10/site-packages (from catboost) (3.10.3)\n",
      "Requirement already satisfied: tzdata>=2022.7 in /home/student/.local/lib/python3.10/site-packages (from pandas>=0.24->catboost) (2025.2)\n",
      "Requirement already satisfied: pytz>=2020.1 in /usr/lib/python3/dist-packages (from pandas>=0.24->catboost) (2022.1)\n",
      "Requirement already satisfied: python-dateutil>=2.8.2 in /home/student/.local/lib/python3.10/site-packages (from pandas>=0.24->catboost) (2.9.0.post0)\n",
      "Requirement already satisfied: kiwisolver>=1.3.1 in /home/student/.local/lib/python3.10/site-packages (from matplotlib->catboost) (1.4.8)\n",
      "Requirement already satisfied: fonttools>=4.22.0 in /home/student/.local/lib/python3.10/site-packages (from matplotlib->catboost) (4.58.1)\n",
      "Requirement already satisfied: packaging>=20.0 in /home/student/.local/lib/python3.10/site-packages (from matplotlib->catboost) (25.0)\n",
      "Requirement already satisfied: cycler>=0.10 in /home/student/.local/lib/python3.10/site-packages (from matplotlib->catboost) (0.12.1)\n",
      "Requirement already satisfied: contourpy>=1.0.1 in /home/student/.local/lib/python3.10/site-packages (from matplotlib->catboost) (1.3.2)\n",
      "Requirement already satisfied: pyparsing>=2.3.1 in /usr/lib/python3/dist-packages (from matplotlib->catboost) (2.4.7)\n",
      "Requirement already satisfied: pillow>=8 in /home/student/.local/lib/python3.10/site-packages (from matplotlib->catboost) (11.2.1)\n",
      "Requirement already satisfied: narwhals>=1.15.1 in /home/student/.local/lib/python3.10/site-packages (from plotly->catboost) (1.41.0)\n",
      "Defaulting to user installation because normal site-packages is not writeable\n",
      "Looking in indexes: https://pypi.org/simple, https://pypi.ngc.nvidia.com\n",
      "Requirement already satisfied: huggingface_hub in /home/student/.local/lib/python3.10/site-packages (0.32.2)\n",
      "Requirement already satisfied: typing-extensions>=3.7.4.3 in /home/student/.local/lib/python3.10/site-packages (from huggingface_hub) (4.13.2)\n",
      "Requirement already satisfied: pyyaml>=5.1 in /usr/lib/python3/dist-packages (from huggingface_hub) (5.4.1)\n",
      "Requirement already satisfied: requests in /home/student/.local/lib/python3.10/site-packages (from huggingface_hub) (2.32.3)\n",
      "Requirement already satisfied: fsspec>=2023.5.0 in /home/student/.local/lib/python3.10/site-packages (from huggingface_hub) (2025.5.1)\n",
      "Requirement already satisfied: filelock in /home/student/.local/lib/python3.10/site-packages (from huggingface_hub) (3.18.0)\n",
      "Requirement already satisfied: hf-xet<2.0.0,>=1.1.2 in /home/student/.local/lib/python3.10/site-packages (from huggingface_hub) (1.1.2)\n",
      "Requirement already satisfied: packaging>=20.9 in /home/student/.local/lib/python3.10/site-packages (from huggingface_hub) (25.0)\n",
      "Requirement already satisfied: tqdm>=4.42.1 in /home/student/.local/lib/python3.10/site-packages (from huggingface_hub) (4.67.1)\n",
      "Requirement already satisfied: certifi>=2017.4.17 in /usr/lib/python3/dist-packages (from requests->huggingface_hub) (2020.6.20)\n",
      "Requirement already satisfied: urllib3<3,>=1.21.1 in /usr/lib/python3/dist-packages (from requests->huggingface_hub) (1.26.5)\n",
      "Requirement already satisfied: charset-normalizer<4,>=2 in /home/student/.local/lib/python3.10/site-packages (from requests->huggingface_hub) (3.4.2)\n",
      "Requirement already satisfied: idna<4,>=2.5 in /usr/lib/python3/dist-packages (from requests->huggingface_hub) (3.3)\n",
      "Defaulting to user installation because normal site-packages is not writeable\n",
      "Looking in indexes: https://pypi.org/simple, https://pypi.ngc.nvidia.com\n",
      "Requirement already satisfied: polars in /home/student/.local/lib/python3.10/site-packages (1.30.0)\n",
      "Defaulting to user installation because normal site-packages is not writeable\n",
      "Looking in indexes: https://pypi.org/simple, https://pypi.ngc.nvidia.com\n",
      "Collecting polars-u64-idx\n",
      "  Downloading polars_u64_idx-1.30.0-cp39-abi3-manylinux_2_17_x86_64.manylinux2014_x86_64.whl (36.2 MB)\n",
      "\u001b[2K     \u001b[90m━━━━━━━━━━━━━━━━━━━━━━━━━━━━━━━━━━━━━━━\u001b[0m \u001b[32m36.2/36.2 MB\u001b[0m \u001b[31m117.0 MB/s\u001b[0m eta \u001b[36m0:00:00\u001b[0ma \u001b[36m0:00:01\u001b[0m\n",
      "\u001b[?25hInstalling collected packages: polars-u64-idx\n",
      "Successfully installed polars-u64-idx-1.30.0\n",
      "Defaulting to user installation because normal site-packages is not writeable\n",
      "Looking in indexes: https://pypi.org/simple, https://pypi.ngc.nvidia.com\n",
      "Requirement already satisfied: scikit-learn in /home/student/.local/lib/python3.10/site-packages (1.6.1)\n",
      "Requirement already satisfied: scipy>=1.6.0 in /home/student/.local/lib/python3.10/site-packages (from scikit-learn) (1.15.3)\n",
      "Requirement already satisfied: joblib>=1.2.0 in /home/student/.local/lib/python3.10/site-packages (from scikit-learn) (1.5.1)\n",
      "Requirement already satisfied: numpy>=1.19.5 in /home/student/.local/lib/python3.10/site-packages (from scikit-learn) (2.2.6)\n",
      "Requirement already satisfied: threadpoolctl>=3.1.0 in /home/student/.local/lib/python3.10/site-packages (from scikit-learn) (3.6.0)\n",
      "Defaulting to user installation because normal site-packages is not writeable\n",
      "Looking in indexes: https://pypi.org/simple, https://pypi.ngc.nvidia.com\n",
      "Requirement already satisfied: tqdm in /home/student/.local/lib/python3.10/site-packages (4.67.1)\n"
     ]
    }
   ],
   "source": [
    "!pip install fasttext\n",
    "!pip install catboost\n",
    "!pip install huggingface_hub\n",
    "!pip install polars\n",
    "!pip install polars-u64-idx\n",
    "!pip install scikit-learn\n",
    "!pip install tqdm"
   ]
  },
  {
   "cell_type": "markdown",
   "id": "4b52f2d3-5960-49ff-a3e6-9423e057772b",
   "metadata": {},
   "source": [
    "### Load embeddings for english words"
   ]
  },
  {
   "cell_type": "code",
   "execution_count": 2,
   "id": "e37f6185-87db-408c-9d97-f22617fd4217",
   "metadata": {},
   "outputs": [
    {
     "name": "stderr",
     "output_type": "stream",
     "text": [
      "/home/student/.local/lib/python3.10/site-packages/tqdm/auto.py:21: TqdmWarning: IProgress not found. Please update jupyter and ipywidgets. See https://ipywidgets.readthedocs.io/en/stable/user_install.html\n",
      "  from .autonotebook import tqdm as notebook_tqdm\n"
     ]
    },
    {
     "data": {
      "text/plain": [
       "[',', 'the', '.', 'and', 'to', 'of', 'a', '</s>', 'in', 'is']"
      ]
     },
     "execution_count": 2,
     "metadata": {},
     "output_type": "execute_result"
    }
   ],
   "source": [
    "import fasttext\n",
    "from huggingface_hub import hf_hub_download\n",
    "\n",
    "model_path = hf_hub_download(repo_id=\"facebook/fasttext-en-vectors\", filename=\"model.bin\")\n",
    "model = fasttext.load_model(model_path)\n",
    "model.words[:10]"
   ]
  },
  {
   "cell_type": "markdown",
   "id": "0a11f857-f25a-455f-9a46-e172ada81d24",
   "metadata": {},
   "source": [
    "### Load dataset and split train and test"
   ]
  },
  {
   "cell_type": "code",
   "execution_count": 3,
   "id": "e202d371-f863-498d-92db-0b38fc9d8502",
   "metadata": {},
   "outputs": [],
   "source": [
    "import polars as pl\n",
    "import numpy as np\n",
    "import random\n",
    "import os\n",
    "from sklearn.preprocessing import MultiLabelBinarizer\n",
    "from sklearn.model_selection import train_test_split\n",
    "from sklearn.metrics import roc_auc_score, f1_score, hamming_loss\n",
    "from catboost import CatBoostClassifier, Pool\n",
    "from catboost.utils import eval_metric\n",
    "\n",
    "random_state = 42\n",
    "random.seed(random_state)\n",
    "np.random.seed(random_state)"
   ]
  },
  {
   "cell_type": "code",
   "execution_count": 5,
   "id": "a79ae724-b088-4d62-8fb4-fe7c8939c389",
   "metadata": {},
   "outputs": [
    {
     "data": {
      "text/html": [
       "<div><style>\n",
       ".dataframe > thead > tr,\n",
       ".dataframe > tbody > tr {\n",
       "  text-align: right;\n",
       "  white-space: pre-wrap;\n",
       "}\n",
       "</style>\n",
       "<small>shape: (1, 1)</small><table border=\"1\" class=\"dataframe\"><thead><tr><th>len</th></tr><tr><td>u64</td></tr></thead><tbody><tr><td>100000</td></tr></tbody></table></div>"
      ],
      "text/plain": [
       "shape: (1, 1)\n",
       "┌────────┐\n",
       "│ len    │\n",
       "│ ---    │\n",
       "│ u64    │\n",
       "╞════════╡\n",
       "│ 100000 │\n",
       "└────────┘"
      ]
     },
     "execution_count": 5,
     "metadata": {},
     "output_type": "execute_result"
    }
   ],
   "source": [
    "df = pl.read_parquet(\"../dataset/medium_articles.parquet\")\n",
    "df.select(pl.len())"
   ]
  },
  {
   "cell_type": "code",
   "execution_count": 6,
   "id": "ecee0ffe-e6f5-475d-b6ee-f7f51600bea2",
   "metadata": {},
   "outputs": [
    {
     "data": {
      "text/html": [
       "<div><style>\n",
       ".dataframe > thead > tr,\n",
       ".dataframe > tbody > tr {\n",
       "  text-align: right;\n",
       "  white-space: pre-wrap;\n",
       "}\n",
       "</style>\n",
       "<small>shape: (5, 3)</small><table border=\"1\" class=\"dataframe\"><thead><tr><th>text</th><th>tags</th><th>label_tags</th></tr><tr><td>str</td><td>list[str]</td><td>array[f32, 43564]</td></tr></thead><tbody><tr><td>&quot;Photo by Josh Riemer on Unspla…</td><td>[&quot;Mental Health&quot;, &quot;Health&quot;, … &quot;Neuroscience&quot;]</td><td>[0.0, 0.0, … 0.0]</td></tr><tr><td>&quot;Your Brain On Coronavirus\n",
       "\n",
       "A g…</td><td>[&quot;Mental Health&quot;, &quot;Coronavirus&quot;, … &quot;Neuroscience&quot;]</td><td>[0.0, 0.0, … 0.0]</td></tr><tr><td>&quot;Mind Your Nose\n",
       "\n",
       "How smell trai…</td><td>[&quot;Biotechnology&quot;, &quot;Neuroscience&quot;, … &quot;Science&quot;]</td><td>[0.0, 0.0, … 0.0]</td></tr><tr><td>&quot;Passionate about the synergy b…</td><td>[&quot;Health&quot;, &quot;Neuroscience&quot;, … &quot;Science&quot;]</td><td>[0.0, 0.0, … 0.0]</td></tr><tr><td>&quot;You’ve heard of him, haven’t y…</td><td>[&quot;Brain&quot;, &quot;Health&quot;, … &quot;Science&quot;]</td><td>[0.0, 0.0, … 0.0]</td></tr></tbody></table></div>"
      ],
      "text/plain": [
       "shape: (5, 3)\n",
       "┌─────────────────────────────────┬─────────────────────────────────┬───────────────────┐\n",
       "│ text                            ┆ tags                            ┆ label_tags        │\n",
       "│ ---                             ┆ ---                             ┆ ---               │\n",
       "│ str                             ┆ list[str]                       ┆ array[f32, 43564] │\n",
       "╞═════════════════════════════════╪═════════════════════════════════╪═══════════════════╡\n",
       "│ Photo by Josh Riemer on Unspla… ┆ [\"Mental Health\", \"Health\", … … ┆ [0.0, 0.0, … 0.0] │\n",
       "│ Your Brain On Coronavirus       ┆ [\"Mental Health\", \"Coronavirus… ┆ [0.0, 0.0, … 0.0] │\n",
       "│                                 ┆                                 ┆                   │\n",
       "│ A g…                            ┆                                 ┆                   │\n",
       "│ Mind Your Nose                  ┆ [\"Biotechnology\", \"Neuroscienc… ┆ [0.0, 0.0, … 0.0] │\n",
       "│                                 ┆                                 ┆                   │\n",
       "│ How smell trai…                 ┆                                 ┆                   │\n",
       "│ Passionate about the synergy b… ┆ [\"Health\", \"Neuroscience\", … \"… ┆ [0.0, 0.0, … 0.0] │\n",
       "│ You’ve heard of him, haven’t y… ┆ [\"Brain\", \"Health\", … \"Science… ┆ [0.0, 0.0, … 0.0] │\n",
       "└─────────────────────────────────┴─────────────────────────────────┴───────────────────┘"
      ]
     },
     "execution_count": 6,
     "metadata": {},
     "output_type": "execute_result"
    }
   ],
   "source": [
    "df.select(\"*\").limit(5)"
   ]
  },
  {
   "cell_type": "markdown",
   "id": "4a459c3d-f8d2-4dcf-9a55-0111a1837eb1",
   "metadata": {},
   "source": [
    "### Get embeddings from fasttext"
   ]
  },
  {
   "cell_type": "code",
   "execution_count": 7,
   "id": "72aef8f0-c523-4e3c-a219-1449373e0c95",
   "metadata": {},
   "outputs": [],
   "source": [
    "X = [model.get_sentence_vector(s.replace(\"\\n\", \"\")) for s in df[\"text\"]]"
   ]
  },
  {
   "cell_type": "code",
   "execution_count": 12,
   "id": "dc8f4da4-8cce-40f6-b0c9-5e607c52ba54",
   "metadata": {},
   "outputs": [
    {
     "data": {
      "text/plain": [
       "array([-1.48390243e-02,  1.38898916e-03,  5.38585754e-03,  4.38489988e-02,\n",
       "       -3.57368737e-02, -1.87596399e-02,  4.36317967e-03, -4.07333137e-04,\n",
       "       -1.27658510e-04,  9.22910229e-04, -5.66016417e-03, -5.85928140e-03,\n",
       "       -3.45777953e-03,  7.80685456e-04, -1.23144602e-02, -7.96648022e-03,\n",
       "        2.29168031e-02,  1.09916311e-02, -2.12812573e-02,  2.49335151e-02,\n",
       "       -3.60213732e-03,  1.35593889e-02,  1.57159567e-03, -1.01784710e-02,\n",
       "       -2.43379846e-02, -2.41253488e-02, -6.70705689e-04, -1.30754225e-02,\n",
       "       -5.22141205e-03,  5.51616326e-02,  6.72938651e-04, -1.32791465e-02,\n",
       "        2.89224205e-03, -1.74348839e-02,  5.29893348e-03, -1.93999615e-03,\n",
       "        1.10751751e-03,  2.07846444e-02, -2.75695021e-03, -8.18019360e-03,\n",
       "       -1.41886203e-03,  4.38753236e-03, -6.16181828e-03,  3.62516269e-02,\n",
       "        1.50966912e-03,  1.38033433e-02,  2.84453901e-03, -5.34708321e-04,\n",
       "       -8.48041847e-03,  8.54781363e-03,  3.84093425e-03, -3.51673830e-03,\n",
       "       -6.68130815e-03, -1.19065521e-02, -8.89592804e-03,  1.42085401e-03,\n",
       "        6.81081321e-03, -5.20911766e-04, -6.54611364e-02, -1.26374494e-02,\n",
       "        1.76079350e-03, -1.23998513e-02, -1.44274170e-02, -2.98416559e-02,\n",
       "       -9.80532728e-03, -1.68835613e-04, -1.40745461e-03, -2.65913573e-03,\n",
       "       -8.34153034e-03, -5.36462525e-03, -8.27173050e-03,  2.00048299e-03,\n",
       "        6.91119302e-03, -3.72278877e-03,  7.61434110e-03, -1.73084456e-02,\n",
       "       -2.15752589e-04,  1.80623122e-02,  3.86376982e-03, -7.93757010e-03,\n",
       "       -2.38591852e-03, -1.87230471e-03, -1.02781402e-02,  2.24700328e-02,\n",
       "        1.07247476e-02, -5.05211204e-03,  1.30739231e-02, -8.19077343e-03,\n",
       "        1.73787735e-02,  1.79161709e-02, -7.72810960e-03, -6.30174065e-03,\n",
       "        4.65186015e-02, -6.02951925e-03,  1.39310258e-02,  8.42982903e-03,\n",
       "       -4.64578671e-03, -3.29305488e-03, -7.27268355e-03,  1.21536087e-02,\n",
       "        1.67706124e-02,  7.61074887e-04,  6.24159025e-03, -4.25288826e-02,\n",
       "        1.17347371e-02, -4.99277376e-03,  5.49055589e-03, -1.00821927e-02,\n",
       "       -3.45351151e-03,  7.94050191e-03,  8.37765913e-03, -1.37431733e-02,\n",
       "       -3.51836020e-03,  2.96018366e-02,  2.95487791e-03, -8.37656390e-03,\n",
       "       -1.56616885e-02,  5.00135776e-03,  4.46522329e-03,  2.69022863e-03,\n",
       "        5.43403625e-03, -6.99649053e-03, -4.26964369e-03, -2.64936592e-03,\n",
       "        1.68222636e-02,  2.79592406e-02, -6.88538712e-04, -1.14151454e-02,\n",
       "       -1.02109639e-02,  2.53460258e-02, -1.27412165e-02, -1.11476770e-02,\n",
       "       -1.68947817e-03,  2.58386843e-02,  2.09383946e-02, -1.86447408e-02,\n",
       "       -3.30904648e-02, -7.21583317e-04,  7.73636391e-03,  5.97341917e-03,\n",
       "       -1.95703432e-02, -4.96290298e-03,  1.57354604e-02,  1.34900464e-02,\n",
       "        1.28237689e-02,  2.03194562e-02, -1.87741652e-01,  5.26580727e-03,\n",
       "       -1.61897612e-03,  1.86383128e-04, -5.10049313e-02,  1.09593151e-02,\n",
       "        3.75109114e-04,  1.40006132e-02, -2.05816817e-03,  3.20127932e-03,\n",
       "        6.45341724e-02, -1.16719842e-04, -1.64092251e-03,  8.61170795e-03,\n",
       "       -3.21702054e-03, -1.89968571e-03, -4.85984655e-03, -1.09984083e-02,\n",
       "        3.43054347e-03,  6.04714872e-03, -7.58334121e-04, -2.89380015e-03,\n",
       "        9.26288404e-03,  2.95656151e-03, -5.68326097e-03, -5.98340807e-03,\n",
       "        1.26978103e-02,  1.09409948e-03, -6.92152826e-04,  6.66244072e-04,\n",
       "       -2.92518432e-03, -8.74540675e-03,  1.77259906e-03, -2.19265874e-02,\n",
       "       -4.20518639e-03,  2.64188778e-02, -9.17320885e-03, -1.38902506e-02,\n",
       "        6.25872659e-03,  2.09311545e-02, -8.90184566e-03, -2.23281514e-02,\n",
       "        2.76864017e-03, -9.27473791e-03, -1.01850601e-02,  2.08826885e-02,\n",
       "       -2.19167117e-03, -9.41755134e-04,  9.75307543e-03,  1.78533001e-03,\n",
       "       -3.87526746e-03, -2.44328659e-03,  8.58473498e-03,  4.36756462e-02,\n",
       "       -2.63114870e-02,  7.50900432e-02,  5.22752572e-03, -2.07172800e-02,\n",
       "       -5.47670946e-03,  2.92172073e-03, -2.27791443e-02, -6.60871342e-03,\n",
       "       -8.21294449e-03,  2.11196542e-02,  2.13321322e-03, -1.00818807e-02,\n",
       "       -3.82503471e-03,  4.16700682e-03,  5.59214270e-03, -9.44467913e-03,\n",
       "        7.84893695e-04,  8.84012203e-04,  1.56483576e-02,  9.93885659e-03,\n",
       "        1.85250230e-02,  1.26701426e-02, -2.15084315e-03,  3.60158607e-02,\n",
       "        1.99926179e-03, -8.52162484e-03,  1.12280780e-02,  4.28637583e-03,\n",
       "        1.47447372e-02,  1.36286672e-03, -1.42767290e-02, -6.71974244e-03,\n",
       "       -4.11634846e-03,  1.96123193e-03,  7.51667051e-03, -2.39157639e-02,\n",
       "        1.21686971e-02, -1.38509891e-03,  7.79324386e-04,  6.91331737e-03,\n",
       "        1.88044144e-03,  1.34085435e-02, -2.09067836e-02, -8.89406502e-02,\n",
       "        2.40693599e-01,  2.12212090e-05,  8.00857972e-03,  1.03988510e-03,\n",
       "       -1.99719518e-03, -7.41419426e-05,  1.67291015e-02,  3.09601845e-03,\n",
       "       -8.86386447e-03, -1.58518329e-02, -6.21237152e-04,  8.28971993e-03,\n",
       "       -3.44227478e-02, -1.23271933e-02, -1.79524708e-03, -1.58622849e-03,\n",
       "       -4.89440328e-03,  2.19289064e-02,  1.39951252e-03,  2.49361014e-03,\n",
       "       -2.21425388e-02,  6.70775911e-03,  6.28209347e-03,  3.09284590e-03,\n",
       "        5.89129934e-03, -3.07599939e-02, -1.25968326e-02, -1.61619689e-02,\n",
       "       -3.03506125e-02, -1.41645195e-02,  1.00643318e-02, -3.37284245e-03,\n",
       "        1.68274413e-03, -1.50682172e-03, -2.35436559e-02,  2.08858829e-02,\n",
       "       -4.58431197e-03,  4.51883767e-03, -1.05213709e-01, -2.21027737e-03,\n",
       "        1.04290608e-03, -7.83056952e-03,  2.00240873e-02, -3.21335718e-02,\n",
       "       -2.09801942e-02, -6.20233035e-03,  2.99136452e-02, -2.25208211e-03,\n",
       "       -6.43064752e-02, -4.31772927e-03, -5.13898907e-03, -2.12145597e-03,\n",
       "        6.65893126e-03,  7.14051053e-02, -1.40540255e-02,  9.21041332e-03],\n",
       "      dtype=float32)"
      ]
     },
     "execution_count": 12,
     "metadata": {},
     "output_type": "execute_result"
    }
   ],
   "source": [
    "X[0]"
   ]
  },
  {
   "cell_type": "code",
   "execution_count": null,
   "id": "828f78b4-1f31-42d8-9e14-8da9b9662419",
   "metadata": {},
   "outputs": [],
   "source": [
    "Y = list(df.select(\"label_tags\")[\"label_tags\"])\n",
    "Y = [y.to_list() for y in Y]\n",
    "Y[0]"
   ]
  },
  {
   "cell_type": "markdown",
   "id": "0ec2fe2a-aefd-4289-84e5-88dd4a9838d0",
   "metadata": {},
   "source": [
    "### Train catboost model on embeddings"
   ]
  },
  {
   "cell_type": "code",
   "execution_count": null,
   "id": "21515f64-c85f-4c02-8e88-1ecc81e56e47",
   "metadata": {},
   "outputs": [],
   "source": [
    "Y = Y\n",
    "X_train, X_test, Y_train, Y_test = train_test_split(X, Y, test_size=0.2, random_state=random_state)\n",
    "train_pool = Pool(X_train, Y_train)\n",
    "test_pool = Pool(X_test, Y_test)"
   ]
  },
  {
   "cell_type": "code",
   "execution_count": null,
   "id": "84bfd90d-f161-4ff2-977b-4a5ed778a95a",
   "metadata": {},
   "outputs": [],
   "source": [
    "%%time\n",
    "clf = CatBoostClassifier(\n",
    "    loss_function='MultiLogloss',\n",
    "    eval_metric='HammingLoss',\n",
    "    iterations=500,\n",
    "    # class_names=['A', 'B', 'C', 'D', 'E']\n",
    ")\n",
    "clf.fit(train_pool, eval_set=test_pool, metric_period=10, plot=True, verbose=50)"
   ]
  },
  {
   "cell_type": "code",
   "execution_count": null,
   "id": "9a81cd0b-97b7-457d-8804-e19a96d4cb1d",
   "metadata": {},
   "outputs": [],
   "source": []
  }
 ],
 "metadata": {
  "kernelspec": {
   "display_name": "Python 3 (ipykernel)",
   "language": "python",
   "name": "python3"
  },
  "language_info": {
   "codemirror_mode": {
    "name": "ipython",
    "version": 3
   },
   "file_extension": ".py",
   "mimetype": "text/x-python",
   "name": "python",
   "nbconvert_exporter": "python",
   "pygments_lexer": "ipython3",
   "version": "3.10.12"
  }
 },
 "nbformat": 4,
 "nbformat_minor": 5
}
