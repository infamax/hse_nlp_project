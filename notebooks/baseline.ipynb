{
 "cells": [
  {
   "cell_type": "markdown",
   "id": "b46a9df8-03fd-4824-876e-819d8838f628",
   "metadata": {},
   "source": [
    "# Catboost model baseline"
   ]
  },
  {
   "cell_type": "code",
   "execution_count": 9,
   "id": "6ad752cc-61b9-49f4-aea8-50e3b4809f64",
   "metadata": {},
   "outputs": [
    {
     "data": {
      "text/html": [
       "<div>\n",
       "<style scoped>\n",
       "    .dataframe tbody tr th:only-of-type {\n",
       "        vertical-align: middle;\n",
       "    }\n",
       "\n",
       "    .dataframe tbody tr th {\n",
       "        vertical-align: top;\n",
       "    }\n",
       "\n",
       "    .dataframe thead th {\n",
       "        text-align: right;\n",
       "    }\n",
       "</style>\n",
       "<table border=\"1\" class=\"dataframe\">\n",
       "  <thead>\n",
       "    <tr style=\"text-align: right;\">\n",
       "      <th></th>\n",
       "      <th>is_available</th>\n",
       "      <th>gen</th>\n",
       "      <th>year</th>\n",
       "      <th>mileage</th>\n",
       "      <th>color</th>\n",
       "      <th>equipment</th>\n",
       "      <th>tax</th>\n",
       "      <th>transmission</th>\n",
       "      <th>drive</th>\n",
       "      <th>wheel_type</th>\n",
       "      <th>state</th>\n",
       "      <th>owners</th>\n",
       "      <th>price</th>\n",
       "      <th>model_name</th>\n",
       "      <th>description</th>\n",
       "    </tr>\n",
       "  </thead>\n",
       "  <tbody>\n",
       "    <tr>\n",
       "      <th>0</th>\n",
       "      <td>True</td>\n",
       "      <td>III</td>\n",
       "      <td>2014</td>\n",
       "      <td>212000</td>\n",
       "      <td>синий</td>\n",
       "      <td>1 опция</td>\n",
       "      <td>39900</td>\n",
       "      <td>автоматическая</td>\n",
       "      <td>полный</td>\n",
       "      <td>Левый</td>\n",
       "      <td>Не требует ремонта</td>\n",
       "      <td>1 владелец</td>\n",
       "      <td>2100000</td>\n",
       "      <td>Toyota Sienna, 2014</td>\n",
       "      <td>Машина привезена из США, владею уже больше 5 л...</td>\n",
       "    </tr>\n",
       "    <tr>\n",
       "      <th>1</th>\n",
       "      <td>True</td>\n",
       "      <td>II (G02) Рестайлинг</td>\n",
       "      <td>2021</td>\n",
       "      <td>73750</td>\n",
       "      <td>чёрный</td>\n",
       "      <td>xDrive20d M Sport Pure</td>\n",
       "      <td>9500</td>\n",
       "      <td>автоматическая</td>\n",
       "      <td>полный</td>\n",
       "      <td>Левый</td>\n",
       "      <td>Не требует ремонта</td>\n",
       "      <td>3 или более</td>\n",
       "      <td>5599000</td>\n",
       "      <td>BMW X4 20d, 2021</td>\n",
       "      <td>УНИКАЛЬНОЕ ПРЕДЛОЖЕНИЕ✅КРЕДИТ ОТ 4,9% ГОДОВЫХ✅...</td>\n",
       "    </tr>\n",
       "    <tr>\n",
       "      <th>2</th>\n",
       "      <td>True</td>\n",
       "      <td>I Рестайлинг</td>\n",
       "      <td>2024</td>\n",
       "      <td>1</td>\n",
       "      <td>серый</td>\n",
       "      <td>Full Moon (Xingyue L)</td>\n",
       "      <td>17850</td>\n",
       "      <td>автоматическая</td>\n",
       "      <td>полный</td>\n",
       "      <td>Левый</td>\n",
       "      <td>Не требует ремонта</td>\n",
       "      <td>1 владелец</td>\n",
       "      <td>3600000</td>\n",
       "      <td>Geely Monjaro (Xingyue L), 2024</td>\n",
       "      <td>Максимальная выгода на любой автомобиль из нал...</td>\n",
       "    </tr>\n",
       "    <tr>\n",
       "      <th>3</th>\n",
       "      <td>True</td>\n",
       "      <td>I (X156)</td>\n",
       "      <td>2017</td>\n",
       "      <td>123652</td>\n",
       "      <td>чёрный</td>\n",
       "      <td>57 опций</td>\n",
       "      <td>5250</td>\n",
       "      <td>роботизированная</td>\n",
       "      <td>передний</td>\n",
       "      <td>Левый</td>\n",
       "      <td>Не требует ремонта</td>\n",
       "      <td>3 или более</td>\n",
       "      <td>1897000</td>\n",
       "      <td>Mercedes-Benz GLA 200, 2017</td>\n",
       "      <td>РОЛЬФ | Вешки автомобили с пробегом✅Данный авт...</td>\n",
       "    </tr>\n",
       "    <tr>\n",
       "      <th>4</th>\n",
       "      <td>True</td>\n",
       "      <td>IV Рестайлинг</td>\n",
       "      <td>2021</td>\n",
       "      <td>111798</td>\n",
       "      <td>серый</td>\n",
       "      <td>41 опция</td>\n",
       "      <td>8950</td>\n",
       "      <td>автоматическая</td>\n",
       "      <td>полный</td>\n",
       "      <td>Левый</td>\n",
       "      <td>Не требует ремонта</td>\n",
       "      <td>1 владелец</td>\n",
       "      <td>3045000</td>\n",
       "      <td>Hyundai Santa Fe, 2021</td>\n",
       "      <td>Комплектации LifeStyle 2.5 АТ AWD 181л.с.Один ...</td>\n",
       "    </tr>\n",
       "  </tbody>\n",
       "</table>\n",
       "</div>"
      ],
      "text/plain": [
       "   is_available                  gen  year  mileage   color  \\\n",
       "0          True                  III  2014   212000   синий   \n",
       "1          True  II (G02) Рестайлинг  2021    73750  чёрный   \n",
       "2          True         I Рестайлинг  2024        1   серый   \n",
       "3          True             I (X156)  2017   123652  чёрный   \n",
       "4          True        IV Рестайлинг  2021   111798   серый   \n",
       "\n",
       "                equipment    tax      transmission     drive wheel_type  \\\n",
       "0                 1 опция  39900    автоматическая    полный      Левый   \n",
       "1  xDrive20d M Sport Pure   9500    автоматическая    полный      Левый   \n",
       "2   Full Moon (Xingyue L)  17850    автоматическая    полный      Левый   \n",
       "3                57 опций   5250  роботизированная  передний      Левый   \n",
       "4                41 опция   8950    автоматическая    полный      Левый   \n",
       "\n",
       "                state       owners    price                       model_name  \\\n",
       "0  Не требует ремонта   1 владелец  2100000              Toyota Sienna, 2014   \n",
       "1  Не требует ремонта  3 или более  5599000                 BMW X4 20d, 2021   \n",
       "2  Не требует ремонта   1 владелец  3600000  Geely Monjaro (Xingyue L), 2024   \n",
       "3  Не требует ремонта  3 или более  1897000      Mercedes-Benz GLA 200, 2017   \n",
       "4  Не требует ремонта   1 владелец  3045000           Hyundai Santa Fe, 2021   \n",
       "\n",
       "                                         description  \n",
       "0  Машина привезена из США, владею уже больше 5 л...  \n",
       "1  УНИКАЛЬНОЕ ПРЕДЛОЖЕНИЕ✅КРЕДИТ ОТ 4,9% ГОДОВЫХ✅...  \n",
       "2  Максимальная выгода на любой автомобиль из нал...  \n",
       "3  РОЛЬФ | Вешки автомобили с пробегом✅Данный авт...  \n",
       "4  Комплектации LifeStyle 2.5 АТ AWD 181л.с.Один ...  "
      ]
     },
     "execution_count": 9,
     "metadata": {},
     "output_type": "execute_result"
    }
   ],
   "source": [
    "import pandas as pd\n",
    "import re\n",
    "import spacy\n",
    "import torch\n",
    "import numpy as np\n",
    "from sklearn.feature_extraction.text import TfidfVectorizer\n",
    "from sklearn.decomposition import TruncatedSVD\n",
    "from catboost import CatBoostRegressor\n",
    "from sklearn.metrics import r2_score, mean_squared_error, mean_absolute_error\n",
    "\n",
    "path_to_train_dataset = \"../dataset/train/train.parquet\"\n",
    "path_to_val_dataset = \"../dataset/val/val.parquet\"\n",
    "path_to_test_dataset = \"../dataset/test/test.parquet\"\n",
    "\n",
    "df_train = pd.read_parquet(path_to_train_dataset, engine=\"pyarrow\")\n",
    "df_val = pd.read_parquet(path_to_val_dataset, engine=\"pyarrow\")\n",
    "df_test = pd.read_parquet(path_to_test_dataset, engine=\"pyarrow\")\n",
    "\n",
    "SEED = 42\n",
    "\n",
    "df_train.head()"
   ]
  },
  {
   "cell_type": "markdown",
   "id": "320acff1-5007-403d-94ac-aef7ea037d28",
   "metadata": {},
   "source": [
    "### Column preprocessing"
   ]
  },
  {
   "cell_type": "code",
   "execution_count": 10,
   "id": "66a25536-a8fb-43d3-aaac-b29126bdb50c",
   "metadata": {},
   "outputs": [
    {
     "data": {
      "text/plain": [
       "0    III синий автоматическая полный Левый Не требу...\n",
       "1    II (G02) Рестайлинг чёрный автоматическая полн...\n",
       "2    I Рестайлинг серый автоматическая полный Левый...\n",
       "3    I (X156) чёрный роботизированная передний Левы...\n",
       "4    IV Рестайлинг серый автоматическая полный Левы...\n",
       "Name: text, dtype: object"
      ]
     },
     "execution_count": 10,
     "metadata": {},
     "output_type": "execute_result"
    }
   ],
   "source": [
    "TEXT_COLUMNS = [\"gen\", \"color\", \"transmission\", \"drive\", \"wheel_type\", \"state\", \"model_name\", \"description\"]\n",
    "\n",
    "def clean_text(text: str) -> str:\n",
    "    text = re.sub(r'\\n\\n+', '\\n', text)\n",
    "    text = re.sub(r'\\t+', ' ', text)\n",
    "    text = re.sub(r' +', ' ', text)\n",
    "    return text.strip()\n",
    "\n",
    "df_train[\"text\"] = df_train[TEXT_COLUMNS].agg(\" \".join, axis=1)\n",
    "df_val[\"text\"] = df_val[TEXT_COLUMNS].agg(\" \".join, axis=1)\n",
    "df_test[\"text\"] = df_test[TEXT_COLUMNS].agg(\" \".join, axis=1)\n",
    "\n",
    "df_train[\"text\"] = df_train[\"text\"].apply(clean_text)\n",
    "df_val[\"text\"] = df_val[\"text\"].apply(clean_text)\n",
    "df_test[\"text\"] = df_test[\"text\"].apply(clean_text)\n",
    "\n",
    "df_train[\"text\"].head()"
   ]
  },
  {
   "cell_type": "markdown",
   "id": "ec903cf8-9e61-4c80-b121-0041118461e6",
   "metadata": {},
   "source": [
    "### Split target and not target variables"
   ]
  },
  {
   "cell_type": "code",
   "execution_count": 14,
   "id": "d1ff417c-a5aa-424e-829f-10f261760e39",
   "metadata": {},
   "outputs": [
    {
     "data": {
      "text/html": [
       "<div>\n",
       "<style scoped>\n",
       "    .dataframe tbody tr th:only-of-type {\n",
       "        vertical-align: middle;\n",
       "    }\n",
       "\n",
       "    .dataframe tbody tr th {\n",
       "        vertical-align: top;\n",
       "    }\n",
       "\n",
       "    .dataframe thead th {\n",
       "        text-align: right;\n",
       "    }\n",
       "</style>\n",
       "<table border=\"1\" class=\"dataframe\">\n",
       "  <thead>\n",
       "    <tr style=\"text-align: right;\">\n",
       "      <th></th>\n",
       "      <th>text</th>\n",
       "      <th>mileage</th>\n",
       "      <th>tax</th>\n",
       "    </tr>\n",
       "  </thead>\n",
       "  <tbody>\n",
       "    <tr>\n",
       "      <th>0</th>\n",
       "      <td>III синий автоматическая полный Левый Не требу...</td>\n",
       "      <td>212000</td>\n",
       "      <td>39900</td>\n",
       "    </tr>\n",
       "    <tr>\n",
       "      <th>1</th>\n",
       "      <td>II (G02) Рестайлинг чёрный автоматическая полн...</td>\n",
       "      <td>73750</td>\n",
       "      <td>9500</td>\n",
       "    </tr>\n",
       "    <tr>\n",
       "      <th>2</th>\n",
       "      <td>I Рестайлинг серый автоматическая полный Левый...</td>\n",
       "      <td>1</td>\n",
       "      <td>17850</td>\n",
       "    </tr>\n",
       "    <tr>\n",
       "      <th>3</th>\n",
       "      <td>I (X156) чёрный роботизированная передний Левы...</td>\n",
       "      <td>123652</td>\n",
       "      <td>5250</td>\n",
       "    </tr>\n",
       "    <tr>\n",
       "      <th>4</th>\n",
       "      <td>IV Рестайлинг серый автоматическая полный Левы...</td>\n",
       "      <td>111798</td>\n",
       "      <td>8950</td>\n",
       "    </tr>\n",
       "  </tbody>\n",
       "</table>\n",
       "</div>"
      ],
      "text/plain": [
       "                                                text  mileage    tax\n",
       "0  III синий автоматическая полный Левый Не требу...   212000  39900\n",
       "1  II (G02) Рестайлинг чёрный автоматическая полн...    73750   9500\n",
       "2  I Рестайлинг серый автоматическая полный Левый...        1  17850\n",
       "3  I (X156) чёрный роботизированная передний Левы...   123652   5250\n",
       "4  IV Рестайлинг серый автоматическая полный Левы...   111798   8950"
      ]
     },
     "execution_count": 14,
     "metadata": {},
     "output_type": "execute_result"
    }
   ],
   "source": [
    "X_train, Y_train = df_train[[\"text\", \"mileage\", \"tax\"]], np.log(df_train[\"price\"])\n",
    "X_val, Y_val = df_val[[\"text\", \"mileage\", \"tax\"]], np.log(df_val[\"price\"])\n",
    "X_test, Y_test = df_test[[\"text\", \"mileage\", \"tax\"]], df_test[\"price\"]\n",
    "X_train.head()"
   ]
  },
  {
   "cell_type": "markdown",
   "id": "13578d6b-cc3e-4b0b-99a6-43ee5e51fdad",
   "metadata": {},
   "source": [
    "### Calculate tf-idf features"
   ]
  },
  {
   "cell_type": "code",
   "execution_count": 16,
   "id": "348af113-3f20-4c7c-9887-dc4a845d9597",
   "metadata": {},
   "outputs": [],
   "source": [
    "nlp = spacy.load(\"ru_core_news_sm\")\n",
    "russian_stopwords = list(nlp.Defaults.stop_words)\n",
    "vectorizer = TfidfVectorizer(max_features=20000, stop_words=russian_stopwords, \n",
    "                            sublinear_tf = True, analyzer = \"word\", token_pattern=r\"\\w{1,}\", ngram_range=(1, 2))\n",
    "\n",
    "X_train_tfidf = vectorizer.fit_transform(X_train[\"text\"]).toarray()\n",
    "X_val_tfidf = vectorizer.transform(X_val[\"text\"]).toarray()\n",
    "X_test_tfidf = vectorizer.transform(X_test[\"text\"]).toarray()"
   ]
  },
  {
   "cell_type": "markdown",
   "id": "de184de0-00ab-40bf-86dd-547ca5116f76",
   "metadata": {},
   "source": [
    "### Calculate svd from tf-idf to reduce space size"
   ]
  },
  {
   "cell_type": "code",
   "execution_count": 17,
   "id": "a8dc24b1-1237-4278-9772-ceaa27f8eeb0",
   "metadata": {},
   "outputs": [],
   "source": [
    "svd = TruncatedSVD(n_components=400, random_state=SEED)\n",
    "\n",
    "X_train_tfidf = svd.fit_transform(X_train_tfidf)\n",
    "X_val_tfidf = svd.transform(X_val_tfidf)\n",
    "X_test_tfidf = svd.transform(X_test_tfidf)\n",
    "\n",
    "svd_features = [f'svd_{i}' for i in range(X_train_tfidf.shape[1])]\n",
    "\n",
    "X_train_tfidf_df = pd.DataFrame(X_train_tfidf, index=X_train.index, columns=svd_features)\n",
    "X_val_tfidf_df = pd.DataFrame(X_val_tfidf, index=X_val.index, columns=svd_features)\n",
    "X_test_tfidf_df = pd.DataFrame(X_test_tfidf, index=X_test.index, columns=svd_features)"
   ]
  },
  {
   "cell_type": "markdown",
   "id": "1a4cd1a1-9302-4275-b550-631ec6b83952",
   "metadata": {},
   "source": [
    "### Combine tf-idf features and numerical"
   ]
  },
  {
   "cell_type": "code",
   "execution_count": 18,
   "id": "e6d6e83f-5c33-426d-a714-6e39dda519ae",
   "metadata": {},
   "outputs": [],
   "source": [
    "catboost_train = pd.concat([X_train[[\"mileage\", \"tax\"]], X_train_tfidf_df], axis=1)\n",
    "catboost_val = pd.concat([X_val[[\"mileage\", \"tax\"]], X_val_tfidf_df], axis=1)\n",
    "catboost_test = pd.concat([X_test[[\"mileage\", \"tax\"]], X_test_tfidf_df], axis=1)"
   ]
  },
  {
   "cell_type": "markdown",
   "id": "96e3fd26-4ee4-437d-92dc-a7efdf083853",
   "metadata": {},
   "source": [
    "### Train catboost model"
   ]
  },
  {
   "cell_type": "code",
   "execution_count": 19,
   "id": "1e1886a6-7a0f-4c18-bdf5-2719587f5134",
   "metadata": {},
   "outputs": [
    {
     "name": "stderr",
     "output_type": "stream",
     "text": [
      "Default metric period is 5 because R2 is/are not implemented for GPU\n",
      "Metric R2 is not implemented on GPU. Will use CPU for metric computation, this could significantly affect learning time\n"
     ]
    },
    {
     "name": "stdout",
     "output_type": "stream",
     "text": [
      "0:\tlearn: 0.1330692\ttest: 0.1321153\tbest: 0.1321153 (0)\ttotal: 58.8ms\tremaining: 9m 47s\n",
      "100:\tlearn: 0.9268570\ttest: 0.8655634\tbest: 0.8655634 (100)\ttotal: 5.83s\tremaining: 9m 31s\n",
      "200:\tlearn: 0.9562696\ttest: 0.8748983\tbest: 0.8749011 (198)\ttotal: 11.6s\tremaining: 9m 25s\n",
      "300:\tlearn: 0.9687377\ttest: 0.8786904\tbest: 0.8786904 (300)\ttotal: 17.3s\tremaining: 9m 16s\n",
      "400:\tlearn: 0.9749730\ttest: 0.8800237\tbest: 0.8800237 (400)\ttotal: 22.9s\tremaining: 9m 7s\n",
      "500:\tlearn: 0.9789013\ttest: 0.8805673\tbest: 0.8806469 (495)\ttotal: 28.6s\tremaining: 9m 1s\n",
      "600:\tlearn: 0.9806963\ttest: 0.8810777\tbest: 0.8810938 (599)\ttotal: 34.3s\tremaining: 8m 56s\n",
      "700:\tlearn: 0.9830261\ttest: 0.8820071\tbest: 0.8820130 (699)\ttotal: 40.1s\tremaining: 8m 51s\n",
      "800:\tlearn: 0.9854206\ttest: 0.8826974\tbest: 0.8827363 (780)\ttotal: 45.8s\tremaining: 8m 46s\n",
      "900:\tlearn: 0.9868396\ttest: 0.8829095\tbest: 0.8829817 (862)\ttotal: 51.5s\tremaining: 8m 40s\n",
      "1000:\tlearn: 0.9880035\ttest: 0.8830850\tbest: 0.8830876 (987)\ttotal: 57.3s\tremaining: 8m 35s\n",
      "1100:\tlearn: 0.9887187\ttest: 0.8832849\tbest: 0.8833392 (1050)\ttotal: 1m 2s\tremaining: 8m 29s\n",
      "1200:\tlearn: 0.9892941\ttest: 0.8836709\tbest: 0.8837021 (1179)\ttotal: 1m 8s\tremaining: 8m 22s\n",
      "1300:\tlearn: 0.9896479\ttest: 0.8838673\tbest: 0.8839021 (1292)\ttotal: 1m 14s\tremaining: 8m 16s\n",
      "1400:\tlearn: 0.9901714\ttest: 0.8840850\tbest: 0.8840896 (1397)\ttotal: 1m 19s\tremaining: 8m 10s\n",
      "1500:\tlearn: 0.9906878\ttest: 0.8843087\tbest: 0.8843087 (1500)\ttotal: 1m 25s\tremaining: 8m 3s\n",
      "1600:\tlearn: 0.9912575\ttest: 0.8846318\tbest: 0.8846337 (1597)\ttotal: 1m 31s\tremaining: 7m 58s\n",
      "1700:\tlearn: 0.9916700\ttest: 0.8845155\tbest: 0.8847184 (1648)\ttotal: 1m 36s\tremaining: 7m 53s\n",
      "1800:\tlearn: 0.9923471\ttest: 0.8847305\tbest: 0.8847962 (1791)\ttotal: 1m 42s\tremaining: 7m 47s\n",
      "1900:\tlearn: 0.9928038\ttest: 0.8848437\tbest: 0.8848479 (1898)\ttotal: 1m 48s\tremaining: 7m 42s\n",
      "2000:\tlearn: 0.9931279\ttest: 0.8850958\tbest: 0.8851355 (1990)\ttotal: 1m 54s\tremaining: 7m 37s\n",
      "2100:\tlearn: 0.9934314\ttest: 0.8852964\tbest: 0.8852977 (2082)\ttotal: 2m\tremaining: 7m 31s\n",
      "2200:\tlearn: 0.9936686\ttest: 0.8854020\tbest: 0.8854140 (2190)\ttotal: 2m 5s\tremaining: 7m 25s\n",
      "2300:\tlearn: 0.9938636\ttest: 0.8854150\tbest: 0.8855103 (2282)\ttotal: 2m 11s\tremaining: 7m 19s\n",
      "2400:\tlearn: 0.9940446\ttest: 0.8853906\tbest: 0.8855103 (2282)\ttotal: 2m 16s\tremaining: 7m 13s\n",
      "bestTest = 0.8855102884\n",
      "bestIteration = 2282\n",
      "Shrink model to first 2283 iterations.\n",
      "CPU times: user 2min 24s, sys: 2.41 s, total: 2min 27s\n",
      "Wall time: 2min 19s\n"
     ]
    },
    {
     "data": {
      "text/plain": [
       "<catboost.core.CatBoostRegressor at 0x795e9765ddb0>"
      ]
     },
     "execution_count": 19,
     "metadata": {},
     "output_type": "execute_result"
    }
   ],
   "source": [
    "%%time\n",
    "catboost = CatBoostRegressor(\n",
    "    iterations=10000, \n",
    "    learning_rate=0.1,\n",
    "    depth=9, \n",
    "    verbose=100, \n",
    "    random_seed=SEED, \n",
    "    task_type=\"GPU\" if torch.cuda.is_available() else \"CPU\", \n",
    "    eval_metric=\"R2\", \n",
    "    od_wait=150, \n",
    "    use_best_model=True,\n",
    ")\n",
    "\n",
    "catboost.fit(catboost_train, Y_train, eval_set=(catboost_val, Y_val))"
   ]
  },
  {
   "cell_type": "markdown",
   "id": "b51f100b-17eb-42ed-9e8b-a484c0bee46e",
   "metadata": {},
   "source": [
    "### Calculate final metric from catboost model"
   ]
  },
  {
   "cell_type": "code",
   "execution_count": 20,
   "id": "d4bc68c4-3b79-4094-a4df-b72f6b152160",
   "metadata": {},
   "outputs": [
    {
     "name": "stdout",
     "output_type": "stream",
     "text": [
      "r2_score: 0.8144389323397352\n"
     ]
    }
   ],
   "source": [
    "catboost_pred_test = catboost.predict(catboost_test)\n",
    "print(f\"r2_score: {r2_score(Y_test, np.exp(catboost_pred_test))}\")"
   ]
  }
 ],
 "metadata": {
  "kernelspec": {
   "display_name": "Python 3 (ipykernel)",
   "language": "python",
   "name": "python3"
  },
  "language_info": {
   "codemirror_mode": {
    "name": "ipython",
    "version": 3
   },
   "file_extension": ".py",
   "mimetype": "text/x-python",
   "name": "python",
   "nbconvert_exporter": "python",
   "pygments_lexer": "ipython3",
   "version": "3.10.12"
  }
 },
 "nbformat": 4,
 "nbformat_minor": 5
}
